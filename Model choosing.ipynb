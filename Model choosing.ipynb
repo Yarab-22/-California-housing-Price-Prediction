{
 "cells": [
  {
   "cell_type": "code",
   "execution_count": 31,
   "id": "b209d990-2e56-457c-a1ca-30c08937b492",
   "metadata": {},
   "outputs": [],
   "source": [
    "import pandas as pd\n",
    "import numpy as np\n",
    "from sklearn.model_selection import StratifiedShuffleSplit\n",
    "from sklearn.pipeline import Pipeline\n",
    "from sklearn.compose import ColumnTransformer\n",
    "from sklearn.impute import SimpleImputer\n",
    "from sklearn.preprocessing import StandardScaler, OneHotEncoder\n",
    "from sklearn.linear_model import LinearRegression\n",
    "from sklearn.tree import DecisionTreeRegressor\n",
    "from sklearn.ensemble import RandomForestRegressor\n",
    "from sklearn.metrics import root_mean_squared_error\n",
    "from sklearn.model_selection import cross_val_score\n"
   ]
  },
  {
   "cell_type": "markdown",
   "id": "95a7f564-d3d8-4d73-954d-69dc2748747e",
   "metadata": {},
   "source": [
    "### 1. Load the dataset"
   ]
  },
  {
   "cell_type": "code",
   "execution_count": 32,
   "id": "f8de8b88-ab01-4784-8aae-a422e7d8704f",
   "metadata": {},
   "outputs": [],
   "source": [
    "housing = pd.read_csv(\"housing.csv\")"
   ]
  },
  {
   "cell_type": "markdown",
   "id": "b4e5d411-d3d3-4319-80fa-50ebe8c41524",
   "metadata": {},
   "source": [
    "### 2. Create a stratified test set"
   ]
  },
  {
   "cell_type": "code",
   "execution_count": 33,
   "id": "eb904049-b514-42d0-aba9-d5049981ba4c",
   "metadata": {},
   "outputs": [],
   "source": [
    "housing['income_cat'] = pd.cut(housing[\"median_income\"], \n",
    "                               bins=[0.0, 1.5, 3.0, 4.5, 6.0, np.inf], \n",
    "                               labels=[1, 2, 3, 4, 5])\n",
    "\n",
    "split = StratifiedShuffleSplit(n_splits=1, test_size=0.2, random_state=42)\n",
    "\n",
    "for train_index, test_index in split.split(housing, housing['income_cat']):\n",
    "    strat_train_set = housing.loc[train_index].drop(\"income_cat\", axis=1) # We will work on this data\n",
    "    strat_test_set = housing.loc[test_index].drop(\"income_cat\", axis=1) # Set aside the test data"
   ]
  },
  {
   "cell_type": "code",
   "execution_count": 34,
   "id": "497374c4-1ec0-48c6-b311-4ef71427f8f8",
   "metadata": {},
   "outputs": [
    {
     "data": {
      "text/html": [
       "<div>\n",
       "<style scoped>\n",
       "    .dataframe tbody tr th:only-of-type {\n",
       "        vertical-align: middle;\n",
       "    }\n",
       "\n",
       "    .dataframe tbody tr th {\n",
       "        vertical-align: top;\n",
       "    }\n",
       "\n",
       "    .dataframe thead th {\n",
       "        text-align: right;\n",
       "    }\n",
       "</style>\n",
       "<table border=\"1\" class=\"dataframe\">\n",
       "  <thead>\n",
       "    <tr style=\"text-align: right;\">\n",
       "      <th></th>\n",
       "      <th>longitude</th>\n",
       "      <th>latitude</th>\n",
       "      <th>housing_median_age</th>\n",
       "      <th>total_rooms</th>\n",
       "      <th>total_bedrooms</th>\n",
       "      <th>population</th>\n",
       "      <th>households</th>\n",
       "      <th>median_income</th>\n",
       "      <th>median_house_value</th>\n",
       "      <th>ocean_proximity</th>\n",
       "    </tr>\n",
       "  </thead>\n",
       "  <tbody>\n",
       "    <tr>\n",
       "      <th>12655</th>\n",
       "      <td>-121.46</td>\n",
       "      <td>38.52</td>\n",
       "      <td>29.0</td>\n",
       "      <td>3873.0</td>\n",
       "      <td>797.0</td>\n",
       "      <td>2237.0</td>\n",
       "      <td>706.0</td>\n",
       "      <td>2.1736</td>\n",
       "      <td>72100.0</td>\n",
       "      <td>INLAND</td>\n",
       "    </tr>\n",
       "    <tr>\n",
       "      <th>15502</th>\n",
       "      <td>-117.23</td>\n",
       "      <td>33.09</td>\n",
       "      <td>7.0</td>\n",
       "      <td>5320.0</td>\n",
       "      <td>855.0</td>\n",
       "      <td>2015.0</td>\n",
       "      <td>768.0</td>\n",
       "      <td>6.3373</td>\n",
       "      <td>279600.0</td>\n",
       "      <td>NEAR OCEAN</td>\n",
       "    </tr>\n",
       "    <tr>\n",
       "      <th>2908</th>\n",
       "      <td>-119.04</td>\n",
       "      <td>35.37</td>\n",
       "      <td>44.0</td>\n",
       "      <td>1618.0</td>\n",
       "      <td>310.0</td>\n",
       "      <td>667.0</td>\n",
       "      <td>300.0</td>\n",
       "      <td>2.8750</td>\n",
       "      <td>82700.0</td>\n",
       "      <td>INLAND</td>\n",
       "    </tr>\n",
       "    <tr>\n",
       "      <th>14053</th>\n",
       "      <td>-117.13</td>\n",
       "      <td>32.75</td>\n",
       "      <td>24.0</td>\n",
       "      <td>1877.0</td>\n",
       "      <td>519.0</td>\n",
       "      <td>898.0</td>\n",
       "      <td>483.0</td>\n",
       "      <td>2.2264</td>\n",
       "      <td>112500.0</td>\n",
       "      <td>NEAR OCEAN</td>\n",
       "    </tr>\n",
       "    <tr>\n",
       "      <th>20496</th>\n",
       "      <td>-118.70</td>\n",
       "      <td>34.28</td>\n",
       "      <td>27.0</td>\n",
       "      <td>3536.0</td>\n",
       "      <td>646.0</td>\n",
       "      <td>1837.0</td>\n",
       "      <td>580.0</td>\n",
       "      <td>4.4964</td>\n",
       "      <td>238300.0</td>\n",
       "      <td>&lt;1H OCEAN</td>\n",
       "    </tr>\n",
       "    <tr>\n",
       "      <th>...</th>\n",
       "      <td>...</td>\n",
       "      <td>...</td>\n",
       "      <td>...</td>\n",
       "      <td>...</td>\n",
       "      <td>...</td>\n",
       "      <td>...</td>\n",
       "      <td>...</td>\n",
       "      <td>...</td>\n",
       "      <td>...</td>\n",
       "      <td>...</td>\n",
       "    </tr>\n",
       "    <tr>\n",
       "      <th>15174</th>\n",
       "      <td>-117.07</td>\n",
       "      <td>33.03</td>\n",
       "      <td>14.0</td>\n",
       "      <td>6665.0</td>\n",
       "      <td>1231.0</td>\n",
       "      <td>2026.0</td>\n",
       "      <td>1001.0</td>\n",
       "      <td>5.0900</td>\n",
       "      <td>268500.0</td>\n",
       "      <td>&lt;1H OCEAN</td>\n",
       "    </tr>\n",
       "    <tr>\n",
       "      <th>12661</th>\n",
       "      <td>-121.42</td>\n",
       "      <td>38.51</td>\n",
       "      <td>15.0</td>\n",
       "      <td>7901.0</td>\n",
       "      <td>1422.0</td>\n",
       "      <td>4769.0</td>\n",
       "      <td>1418.0</td>\n",
       "      <td>2.8139</td>\n",
       "      <td>90400.0</td>\n",
       "      <td>INLAND</td>\n",
       "    </tr>\n",
       "    <tr>\n",
       "      <th>19263</th>\n",
       "      <td>-122.72</td>\n",
       "      <td>38.44</td>\n",
       "      <td>48.0</td>\n",
       "      <td>707.0</td>\n",
       "      <td>166.0</td>\n",
       "      <td>458.0</td>\n",
       "      <td>172.0</td>\n",
       "      <td>3.1797</td>\n",
       "      <td>140400.0</td>\n",
       "      <td>&lt;1H OCEAN</td>\n",
       "    </tr>\n",
       "    <tr>\n",
       "      <th>19140</th>\n",
       "      <td>-122.70</td>\n",
       "      <td>38.31</td>\n",
       "      <td>14.0</td>\n",
       "      <td>3155.0</td>\n",
       "      <td>580.0</td>\n",
       "      <td>1208.0</td>\n",
       "      <td>501.0</td>\n",
       "      <td>4.1964</td>\n",
       "      <td>258100.0</td>\n",
       "      <td>&lt;1H OCEAN</td>\n",
       "    </tr>\n",
       "    <tr>\n",
       "      <th>19773</th>\n",
       "      <td>-122.14</td>\n",
       "      <td>39.97</td>\n",
       "      <td>27.0</td>\n",
       "      <td>1079.0</td>\n",
       "      <td>222.0</td>\n",
       "      <td>625.0</td>\n",
       "      <td>197.0</td>\n",
       "      <td>3.1319</td>\n",
       "      <td>62700.0</td>\n",
       "      <td>INLAND</td>\n",
       "    </tr>\n",
       "  </tbody>\n",
       "</table>\n",
       "<p>16512 rows × 10 columns</p>\n",
       "</div>"
      ],
      "text/plain": [
       "       longitude  latitude  housing_median_age  total_rooms  total_bedrooms  \\\n",
       "12655    -121.46     38.52                29.0       3873.0           797.0   \n",
       "15502    -117.23     33.09                 7.0       5320.0           855.0   \n",
       "2908     -119.04     35.37                44.0       1618.0           310.0   \n",
       "14053    -117.13     32.75                24.0       1877.0           519.0   \n",
       "20496    -118.70     34.28                27.0       3536.0           646.0   \n",
       "...          ...       ...                 ...          ...             ...   \n",
       "15174    -117.07     33.03                14.0       6665.0          1231.0   \n",
       "12661    -121.42     38.51                15.0       7901.0          1422.0   \n",
       "19263    -122.72     38.44                48.0        707.0           166.0   \n",
       "19140    -122.70     38.31                14.0       3155.0           580.0   \n",
       "19773    -122.14     39.97                27.0       1079.0           222.0   \n",
       "\n",
       "       population  households  median_income  median_house_value  \\\n",
       "12655      2237.0       706.0         2.1736             72100.0   \n",
       "15502      2015.0       768.0         6.3373            279600.0   \n",
       "2908        667.0       300.0         2.8750             82700.0   \n",
       "14053       898.0       483.0         2.2264            112500.0   \n",
       "20496      1837.0       580.0         4.4964            238300.0   \n",
       "...           ...         ...            ...                 ...   \n",
       "15174      2026.0      1001.0         5.0900            268500.0   \n",
       "12661      4769.0      1418.0         2.8139             90400.0   \n",
       "19263       458.0       172.0         3.1797            140400.0   \n",
       "19140      1208.0       501.0         4.1964            258100.0   \n",
       "19773       625.0       197.0         3.1319             62700.0   \n",
       "\n",
       "      ocean_proximity  \n",
       "12655          INLAND  \n",
       "15502      NEAR OCEAN  \n",
       "2908           INLAND  \n",
       "14053      NEAR OCEAN  \n",
       "20496       <1H OCEAN  \n",
       "...               ...  \n",
       "15174       <1H OCEAN  \n",
       "12661          INLAND  \n",
       "19263       <1H OCEAN  \n",
       "19140       <1H OCEAN  \n",
       "19773          INLAND  \n",
       "\n",
       "[16512 rows x 10 columns]"
      ]
     },
     "execution_count": 34,
     "metadata": {},
     "output_type": "execute_result"
    }
   ],
   "source": [
    "# We will work on the copy of training data \n",
    "housing = strat_train_set.copy()\n",
    "housing"
   ]
  },
  {
   "cell_type": "markdown",
   "id": "fbb472c9-dae4-474d-8a8c-a055aad6ac34",
   "metadata": {},
   "source": [
    "### 3. Seperate features and labels"
   ]
  },
  {
   "cell_type": "code",
   "execution_count": 35,
   "id": "dd481054-fd4a-494e-ba37-f9a4503cfb88",
   "metadata": {},
   "outputs": [
    {
     "name": "stdout",
     "output_type": "stream",
     "text": [
      "       longitude  latitude  housing_median_age  total_rooms  total_bedrooms  \\\n",
      "12655    -121.46     38.52                29.0       3873.0           797.0   \n",
      "15502    -117.23     33.09                 7.0       5320.0           855.0   \n",
      "2908     -119.04     35.37                44.0       1618.0           310.0   \n",
      "14053    -117.13     32.75                24.0       1877.0           519.0   \n",
      "20496    -118.70     34.28                27.0       3536.0           646.0   \n",
      "...          ...       ...                 ...          ...             ...   \n",
      "15174    -117.07     33.03                14.0       6665.0          1231.0   \n",
      "12661    -121.42     38.51                15.0       7901.0          1422.0   \n",
      "19263    -122.72     38.44                48.0        707.0           166.0   \n",
      "19140    -122.70     38.31                14.0       3155.0           580.0   \n",
      "19773    -122.14     39.97                27.0       1079.0           222.0   \n",
      "\n",
      "       population  households  median_income ocean_proximity  \n",
      "12655      2237.0       706.0         2.1736          INLAND  \n",
      "15502      2015.0       768.0         6.3373      NEAR OCEAN  \n",
      "2908        667.0       300.0         2.8750          INLAND  \n",
      "14053       898.0       483.0         2.2264      NEAR OCEAN  \n",
      "20496      1837.0       580.0         4.4964       <1H OCEAN  \n",
      "...           ...         ...            ...             ...  \n",
      "15174      2026.0      1001.0         5.0900       <1H OCEAN  \n",
      "12661      4769.0      1418.0         2.8139          INLAND  \n",
      "19263       458.0       172.0         3.1797       <1H OCEAN  \n",
      "19140      1208.0       501.0         4.1964       <1H OCEAN  \n",
      "19773       625.0       197.0         3.1319          INLAND  \n",
      "\n",
      "[16512 rows x 9 columns] 12655     72100.0\n",
      "15502    279600.0\n",
      "2908      82700.0\n",
      "14053    112500.0\n",
      "20496    238300.0\n",
      "           ...   \n",
      "15174    268500.0\n",
      "12661     90400.0\n",
      "19263    140400.0\n",
      "19140    258100.0\n",
      "19773     62700.0\n",
      "Name: median_house_value, Length: 16512, dtype: float64\n"
     ]
    }
   ],
   "source": [
    "housing_labels = housing[\"median_house_value\"].copy()\n",
    "housing = housing.drop(\"median_house_value\", axis=1)\n",
    "\n",
    "print(housing, housing_labels)"
   ]
  },
  {
   "cell_type": "markdown",
   "id": "88c0d7ff-49f7-47fb-9376-462210af7eb4",
   "metadata": {},
   "source": [
    "### 4. List the numerical and categorical columns"
   ]
  },
  {
   "cell_type": "code",
   "execution_count": 36,
   "id": "b34f55c9-11a7-45da-85e3-06556ad739b6",
   "metadata": {},
   "outputs": [],
   "source": [
    "num_attribs = housing.drop(\"ocean_proximity\", axis=1).columns.tolist()\n",
    "cat_attribs = [\"ocean_proximity\"]"
   ]
  },
  {
   "cell_type": "markdown",
   "id": "84ece355-23dc-4649-8da3-a41e979ace80",
   "metadata": {},
   "source": [
    "### 5. Lets make the pipeline "
   ]
  },
  {
   "cell_type": "code",
   "execution_count": 37,
   "id": "fedc7cb6-c8c5-49f6-84dc-53a83bf6e00e",
   "metadata": {},
   "outputs": [],
   "source": [
    "# For numerical columns\n",
    "num_pipline = Pipeline([\n",
    "    (\"imputer\", SimpleImputer(strategy=\"median\")),\n",
    "    (\"scaler\", StandardScaler())\n",
    "])"
   ]
  },
  {
   "cell_type": "code",
   "execution_count": 38,
   "id": "a72273b9-0982-42f1-bbde-45b58c150d20",
   "metadata": {},
   "outputs": [],
   "source": [
    "# For categorical columns\n",
    "cat_pipline = Pipeline([ \n",
    "    (\"onehot\", OneHotEncoder(handle_unknown=\"ignore\"))\n",
    "])"
   ]
  },
  {
   "cell_type": "code",
   "execution_count": 39,
   "id": "550fd194-2305-4da8-a2f4-20cb766d15c5",
   "metadata": {},
   "outputs": [],
   "source": [
    "# Construct the full pipeline\n",
    "full_pipeline = ColumnTransformer([\n",
    "    (\"num\", num_pipline, num_attribs), \n",
    "    ('cat', cat_pipline, cat_attribs)\n",
    "])"
   ]
  },
  {
   "cell_type": "markdown",
   "id": "fba71c43-da5b-41e3-babf-3c92b8d59af4",
   "metadata": {},
   "source": [
    "### 6. Transform the data"
   ]
  },
  {
   "cell_type": "code",
   "execution_count": 40,
   "id": "32a7c288-8a50-45c4-bcb4-54e6fd26900c",
   "metadata": {},
   "outputs": [
    {
     "name": "stdout",
     "output_type": "stream",
     "text": [
      "(16512, 13)\n"
     ]
    }
   ],
   "source": [
    "housing_prepared = full_pipeline.fit_transform(housing)\n",
    "print(housing_prepared.shape)"
   ]
  },
  {
   "cell_type": "markdown",
   "id": "62e880ae-8674-440e-9774-a7c563e35e33",
   "metadata": {},
   "source": [
    "### 7. Train & choose the model"
   ]
  },
  {
   "cell_type": "code",
   "execution_count": 41,
   "id": "528eb706-3412-4bf3-ad75-5bcae0bb4274",
   "metadata": {},
   "outputs": [
    {
     "name": "stdout",
     "output_type": "stream",
     "text": [
      "count       10.000000\n",
      "mean     69204.322755\n",
      "std       2500.382157\n",
      "min      65318.224029\n",
      "25%      67124.346106\n",
      "50%      69404.658178\n",
      "75%      70697.800632\n",
      "max      73003.752739\n",
      "dtype: float64\n"
     ]
    }
   ],
   "source": [
    "# Linear Regression Model\n",
    "lin_reg = LinearRegression()\n",
    "lin_reg.fit(housing_prepared, housing_labels)\n",
    "lin_preds = lin_reg.predict(housing_prepared)\n",
    "# lin_rmse = root_mean_squared_error(housing_labels, lin_preds)\n",
    "# print(f\"The root mean squared error for Linear Regression is {lin_rmse}\")\n",
    "lin_rmses = -cross_val_score(lin_reg, housing_prepared, housing_labels, scoring=\"neg_root_mean_squared_error\", cv=10\n",
    "                             )\n",
    "print(pd.Series(lin_rmses).describe())"
   ]
  },
  {
   "cell_type": "code",
   "execution_count": 42,
   "id": "10e9108d-195e-4e7a-bd5b-e590a64df9d4",
   "metadata": {},
   "outputs": [
    {
     "name": "stdout",
     "output_type": "stream",
     "text": [
      "count       10.000000\n",
      "mean     69503.991541\n",
      "std       2319.044382\n",
      "min      64714.045093\n",
      "25%      68363.074752\n",
      "50%      69542.480175\n",
      "75%      70864.497174\n",
      "max      73058.434093\n",
      "dtype: float64\n"
     ]
    }
   ],
   "source": [
    "# Decision Tree Model\n",
    "dec_reg = DecisionTreeRegressor()\n",
    "dec_reg.fit(housing_prepared, housing_labels)\n",
    "dec_preds = dec_reg.predict(housing_prepared)\n",
    "# dec_rmse = root_mean_squared_error(housing_labels, dec_preds)\n",
    "dec_rmses = -cross_val_score(dec_reg, housing_prepared, housing_labels, scoring=\"neg_root_mean_squared_error\", cv=10\n",
    "                             )\n",
    "# print(f\"The root mean squared error for Decision Tree is {dec_rmses}\")\n",
    "print(pd.Series(dec_rmses).describe())"
   ]
  },
  {
   "cell_type": "code",
   "execution_count": null,
   "id": "90ab37cd-4cb3-4ae5-8567-0acff61d9e95",
   "metadata": {},
   "outputs": [],
   "source": [
    "# Random Forest Model\n",
    "random_forest_reg = RandomForestRegressor()\n",
    "random_forest_reg.fit(housing_prepared, housing_labels)\n",
    "random_forest_preds = random_forest_reg.predict(housing_prepared)\n",
    "random_forest_rmse = root_mean_squared_error(housing_labels, random_forest_preds)\n",
    "# print(f\"The root mean squared error for Random Forest is {random_forest_rmse}\")\n",
    "random_forest_rmses = -cross_val_score(random_forest_reg, housing_prepared, housing_labels, scoring=\"neg_root_mean_squared_error\", cv=10\n",
    "                             )\n",
    "# print(f\"The root mean squared error for Decision Tree is {dec_rmses}\")\n",
    "print(pd.Series(random_forest_rmses).describe())"
   ]
  },
  {
   "cell_type": "code",
   "execution_count": null,
   "id": "a8f66040-2728-49e3-b4c9-5d5f9f3f15c9",
   "metadata": {},
   "outputs": [],
   "source": []
  }
 ],
 "metadata": {
  "kernelspec": {
   "display_name": "Python 3 (ipykernel)",
   "language": "python",
   "name": "python3"
  },
  "language_info": {
   "codemirror_mode": {
    "name": "ipython",
    "version": 3
   },
   "file_extension": ".py",
   "mimetype": "text/x-python",
   "name": "python",
   "nbconvert_exporter": "python",
   "pygments_lexer": "ipython3",
   "version": "3.12.7"
  }
 },
 "nbformat": 4,
 "nbformat_minor": 5
}
